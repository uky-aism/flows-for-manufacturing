{
  "nbformat": 4,
  "nbformat_minor": 0,
  "metadata": {
    "colab": {
      "provenance": []
    },
    "kernelspec": {
      "name": "python3",
      "display_name": "Python 3"
    },
    "language_info": {
      "name": "python"
    }
  },
  "cells": [
    {
      "cell_type": "markdown",
      "source": [
        "This notebook was run in Google Colab in order to use NumPyro."
      ],
      "metadata": {
        "id": "H-eaZgBqL7GY"
      }
    },
    {
      "cell_type": "code",
      "source": [
        "!wget https://data.nasa.gov/download/vjv9-9f3x/application%2Fzip -O mill.zip\n",
        "!unzip mill.zip"
      ],
      "metadata": {
        "colab": {
          "base_uri": "https://localhost:8080/"
        },
        "id": "LFxcPuRRcv0l",
        "outputId": "8f2bbd99-90c6-4db4-c385-e2fe73191508"
      },
      "execution_count": 1,
      "outputs": [
        {
          "output_type": "stream",
          "name": "stdout",
          "text": [
            "--2023-05-01 12:10:05--  https://data.nasa.gov/download/vjv9-9f3x/application%2Fzip\n",
            "Resolving data.nasa.gov (data.nasa.gov)... 128.102.186.77, 2001:4d0:6311:2c05:60b0:5ad8:1210:ea07\n",
            "Connecting to data.nasa.gov (data.nasa.gov)|128.102.186.77|:443... connected.\n",
            "HTTP request sent, awaiting response... 302 Found\n",
            "Location: https://data.nasa.gov/api/views/vjv9-9f3x/files/d1c796e8-ca19-4b3d-804d-845e81c7cce3?filename=mill.zip [following]\n",
            "--2023-05-01 12:10:06--  https://data.nasa.gov/api/views/vjv9-9f3x/files/d1c796e8-ca19-4b3d-804d-845e81c7cce3?filename=mill.zip\n",
            "Reusing existing connection to data.nasa.gov:443.\n",
            "HTTP request sent, awaiting response... 200 OK\n",
            "Length: unspecified [application/octet-stream]\n",
            "Saving to: ‘mill.zip’\n",
            "\n",
            "mill.zip                [       <=>          ]  14.44M  10.5MB/s    in 1.4s    \n",
            "\n",
            "2023-05-01 12:10:08 (10.5 MB/s) - ‘mill.zip’ saved [15140674]\n",
            "\n",
            "Archive:  mill.zip\n",
            "  inflating: Readme.pdf              \n",
            "  inflating: mill.mat                \n"
          ]
        }
      ]
    },
    {
      "cell_type": "code",
      "source": [
        "!python -m pip install numpyro"
      ],
      "metadata": {
        "colab": {
          "base_uri": "https://localhost:8080/"
        },
        "id": "ltR3PKZROI5b",
        "outputId": "00bdf0cb-baba-4124-aedb-ede6bc44226c"
      },
      "execution_count": 3,
      "outputs": [
        {
          "output_type": "stream",
          "name": "stdout",
          "text": [
            "Looking in indexes: https://pypi.org/simple, https://us-python.pkg.dev/colab-wheels/public/simple/\n",
            "Collecting numpyro\n",
            "  Downloading numpyro-0.11.0-py3-none-any.whl (300 kB)\n",
            "\u001b[2K     \u001b[90m━━━━━━━━━━━━━━━━━━━━━━━━━━━━━━━━━━━━━━━\u001b[0m \u001b[32m300.2/300.2 kB\u001b[0m \u001b[31m9.8 MB/s\u001b[0m eta \u001b[36m0:00:00\u001b[0m\n",
            "\u001b[?25hRequirement already satisfied: tqdm in /usr/local/lib/python3.10/dist-packages (from numpyro) (4.65.0)\n",
            "Requirement already satisfied: jax>=0.4 in /usr/local/lib/python3.10/dist-packages (from numpyro) (0.4.8)\n",
            "Requirement already satisfied: multipledispatch in /usr/local/lib/python3.10/dist-packages (from numpyro) (0.6.0)\n",
            "Requirement already satisfied: jaxlib>=0.4 in /usr/local/lib/python3.10/dist-packages (from numpyro) (0.4.7+cuda11.cudnn86)\n",
            "Requirement already satisfied: numpy in /usr/local/lib/python3.10/dist-packages (from numpyro) (1.22.4)\n",
            "Requirement already satisfied: ml-dtypes>=0.0.3 in /usr/local/lib/python3.10/dist-packages (from jax>=0.4->numpyro) (0.1.0)\n",
            "Requirement already satisfied: scipy>=1.7 in /usr/local/lib/python3.10/dist-packages (from jax>=0.4->numpyro) (1.10.1)\n",
            "Requirement already satisfied: opt-einsum in /usr/local/lib/python3.10/dist-packages (from jax>=0.4->numpyro) (3.3.0)\n",
            "Requirement already satisfied: six in /usr/local/lib/python3.10/dist-packages (from multipledispatch->numpyro) (1.16.0)\n",
            "Installing collected packages: numpyro\n",
            "Successfully installed numpyro-0.11.0\n"
          ]
        }
      ]
    },
    {
      "cell_type": "code",
      "execution_count": 12,
      "metadata": {
        "id": "_2WOPVMxcoMg"
      },
      "outputs": [],
      "source": [
        "import argparse\n",
        "import time\n",
        "from typing import Dict, Optional, Sequence, Tuple, Union\n",
        "\n",
        "import jax\n",
        "import jax.numpy as jnp\n",
        "from matplotlib.axes import Axes\n",
        "from matplotlib.figure import Figure\n",
        "import matplotlib.pyplot as plt\n",
        "import numpy as np\n",
        "import numpyro\n",
        "import numpyro.distributions as dist\n",
        "from numpyro.infer import MCMC, NUTS\n",
        "from scipy.io import loadmat\n",
        "\n",
        "\n",
        "def load_milling_data(file_path: str) -> Sequence[np.ndarray]:\n",
        "    \"\"\"Loads the milling data.\n",
        "\n",
        "    Args:\n",
        "        file_path: The path to the milling .mat file\n",
        "\n",
        "    Returns:\n",
        "        A list of numpy arrays of the run data.\n",
        "    \"\"\"\n",
        "    data = loadmat(file_path)\n",
        "    flank_wear = data[\"mill\"][\"VB\"][0].astype(float)\n",
        "    case_i = data[\"mill\"][\"case\"][0].astype(int)\n",
        "    case_wear = [flank_wear[case_i == i] for i in np.unique(case_i)]\n",
        "    for i, x in enumerate(case_wear):\n",
        "        idx = np.arange(x.shape[0])\n",
        "        case_wear[i] = np.interp(idx, idx[~np.isnan(x)], x[~np.isnan(x)])\n",
        "    return case_wear\n",
        "\n",
        "def stepwise_model(\n",
        "    sim_steps: int,\n",
        "    a: np.ndarray,\n",
        "    b: np.ndarray,\n",
        "    k0: int = 0,\n",
        "    x0: Optional[Union[np.ndarray, float]] = 0.0,\n",
        ") -> jnp.ndarray:\n",
        "    sim = jnp.zeros((a.shape[0], sim_steps))\n",
        "    if x0 is not None:\n",
        "        sim = sim.at[:, 0].set(x0)\n",
        "    for i in range(sim_steps - 1):\n",
        "        k = k0 + i\n",
        "        rate = 0.4 * b * jnp.exp(0.4 * a * k)\n",
        "        sim = sim.at[:, i + 1].set(sim[:, i] + rate.squeeze())\n",
        "    if x0 is not None:\n",
        "        sim = sim.at[:, 0].set(x0)\n",
        "    return sim\n",
        "\n",
        "def mcmc_model(data: np.ndarray, sigma: float) -> jnp.ndarray:\n",
        "    \"\"\"The model for MCMC.\n",
        "\n",
        "    Args:\n",
        "        data: The tensor of observations.\n",
        "        sigma: The measurement noise.\n",
        "\n",
        "    Returns:\n",
        "        The sampled observation.\n",
        "    \"\"\"\n",
        "    a = numpyro.sample(\"a\", dist.Normal(0, 0.3))\n",
        "    b = numpyro.sample(\"b\", dist.HalfNormal(0.3))\n",
        "    out = stepwise_model(data.shape[0], jnp.array([a]), jnp.array([b]))[0]\n",
        "\n",
        "    return numpyro.sample(\"obs\", dist.Normal(out, sigma), obs=data)\n",
        "\n",
        "def compute_rsme_from_file(results_file: str) -> float:\n",
        "    \"\"\"Compute the RSME of the median prediction.\n",
        "\n",
        "    Args:\n",
        "        results_file: The path to the mcmc results file.\n",
        "    \n",
        "    Returns:\n",
        "        The RSME.\n",
        "    \"\"\"\n",
        "    results = np.load(results_file, allow_pickle=True).item()\n",
        "    case_data = results[\"_data\"]\n",
        "    obs_len = results[\"_obs_len\"]\n",
        "    a_samples = results[\"a\"]\n",
        "    b_samples = results[\"b\"]\n",
        "    obs = case_data[:obs_len]\n",
        "    all_sims = stepwise_model(\n",
        "        case_data.shape[-1] - obs_len + 1,\n",
        "        a_samples,\n",
        "        b_samples,\n",
        "        obs_len - 1,\n",
        "        obs[obs_len - 1],\n",
        "    )\n",
        "    x = np.arange(all_sims.shape[-1]) + obs_len - 1\n",
        "\n",
        "    # Compute the 90-10 interval for the prognosis\n",
        "    top90 = np.quantile(all_sims, 0.9, axis=0)\n",
        "    bottom10 = np.quantile(all_sims, 0.1, axis=0)\n",
        "    median = np.quantile(all_sims, 0.5, axis=0)\n",
        "\n",
        "    # Compute the RMSE\n",
        "    rmse = np.sqrt(((case_data[obs_len:] - median[1:]) ** 2).mean()).item()\n",
        "\n",
        "    return rmse\n",
        "    \n",
        "\n",
        "def plot_prognosis(\n",
        "    case_data: np.ndarray, \n",
        "    obs_len: int, \n",
        "    a_samples: np.ndarray,\n",
        "    b_samples: np.ndarray,\n",
        "    title: str,\n",
        "    ax: Optional[Axes] = None\n",
        ") -> Figure:\n",
        "    \"\"\"Plot the prognosis.\n",
        "\n",
        "    Args:\n",
        "        case_data: The full tool wear degradation curve.\n",
        "        obs_len: The length of the observation before prognosis.\n",
        "        a_samples: The samples of model parameter a.\n",
        "        b_samples: The samples of model parameter b.\n",
        "        title: The title of the plot.\n",
        "        ax: Optional, the axes to plot on.\n",
        "\n",
        "    Returns:\n",
        "        The Figure.\n",
        "    \"\"\"\n",
        "    obs = case_data[:obs_len]\n",
        "    all_sims = stepwise_model(\n",
        "        case_data.shape[-1] - obs_len + 1,\n",
        "        a_samples,\n",
        "        b_samples,\n",
        "        obs_len - 1,\n",
        "        obs[obs_len - 1],\n",
        "    )\n",
        "    x = np.arange(all_sims.shape[-1]) + obs_len - 1\n",
        "\n",
        "    # Compute the 90-10 interval for the prognosis\n",
        "    top90 = np.quantile(all_sims, 0.9, axis=0)\n",
        "    bottom10 = np.quantile(all_sims, 0.1, axis=0)\n",
        "    median = np.quantile(all_sims, 0.5, axis=0)\n",
        "\n",
        "    if ax is None:\n",
        "        _, ax = plt.subplots(dpi=150)\n",
        "\n",
        "    ax.plot(case_data, label=\"Actual\", color=\"r\", marker=\"o\", markersize=2)\n",
        "    ax.plot(\n",
        "        x,\n",
        "        top90,\n",
        "        color=\"b\",\n",
        "        ls=\"--\",\n",
        "    )\n",
        "    ax.plot(x, median, color=\"b\", ls=\":\", label=\"Median\")\n",
        "    ax.plot(\n",
        "        x,\n",
        "        bottom10,\n",
        "        color=\"b\",\n",
        "        ls=\"--\",\n",
        "    )\n",
        "    ax.set_ylim(0, None)\n",
        "    ax.set_xlim(0, case_data.shape[0] - 1)\n",
        "    ax.set_xlabel(\"Run Index\")\n",
        "    ax.set_ylabel(\"Flank Wear (mm)\")\n",
        "    ax.set_xticks(np.arange(case_data.shape[0], step=4))\n",
        "    ax.set_title(title)\n",
        "\n",
        "def mcmc_main(\n",
        "    milling_data: str,\n",
        "    case_idx: int,\n",
        "    obs_len: int,\n",
        "    num_samples: int,\n",
        "    out_file: Optional[str] = None,\n",
        "    seed: int = 0\n",
        ") -> Tuple[Dict[str, np.ndarray], float]:\n",
        "    \"\"\"MCMC inference on milling tool wear data.\n",
        "\n",
        "    Args:\n",
        "        milling_data: Path to the milling data .mat file.\n",
        "        case_idx: The index of the milling case to use.\n",
        "        obs_len: The length of the observation before prognosis.\n",
        "        num_samples: The number of MCMC parameter samples after warmup.\n",
        "        out_file: The output .pt file for saving MCMC samples.\n",
        "        seed: The random seed.\n",
        "\n",
        "    Returns:\n",
        "        A tuple with the dictionary of results/samples\n",
        "        and the elapsed perf_counter time.\n",
        "    \"\"\"\n",
        "    data = load_milling_data(milling_data)\n",
        "\n",
        "    case_data = data[case_idx]\n",
        "    observed_data = case_data[:obs_len]\n",
        "\n",
        "    nuts_kernel = NUTS(mcmc_model)\n",
        "    mcmc = MCMC(nuts_kernel, num_samples=num_samples, num_warmup=2000, num_chains=1)\n",
        "\n",
        "    tic = time.perf_counter()\n",
        "    # The args match those of the model function + a RNG seed\n",
        "    mcmc.run(jax.random.PRNGKey(seed), observed_data, np.sqrt(0.002))\n",
        "    toc = time.perf_counter()\n",
        "    print(f\"{toc - tic:.3f} s\")\n",
        "\n",
        "    mcmc.print_summary()\n",
        "\n",
        "    samples: Optional[Dict[str, np.ndarray]] = mcmc.get_samples()\n",
        "    assert samples is not None\n",
        "\n",
        "    if out_file is not None:\n",
        "        samples[\"_data\"] = case_data\n",
        "        samples[\"_obs_len\"] = obs_len\n",
        "        samples[\"_case_idx\"] = case_idx\n",
        "        jnp.save(out_file, samples)\n",
        "\n",
        "    return samples, toc - tic\n",
        "\n",
        "\n",
        "def show_mcmc_results(results_file: str, ax: Optional[Axes] = None):\n",
        "    \"\"\"Show the MCMC samples.\n",
        "\n",
        "    Args:\n",
        "        results_file: The .npy file of MCMC results.\n",
        "        ax: Optional, the axes to plot on.\n",
        "    \"\"\"\n",
        "    results = np.load(results_file, allow_pickle=True).item()\n",
        "    case_data = results[\"_data\"]\n",
        "\n",
        "    plot_prognosis(\n",
        "        case_data, \n",
        "        results[\"_obs_len\"],\n",
        "        results[\"a\"], \n",
        "        results[\"b\"], \n",
        "        f'Case {results[\"_case_idx\"]+1}',\n",
        "        ax\n",
        "    )"
      ]
    },
    {
      "cell_type": "code",
      "source": [
        "for seed in range(5):\n",
        "    for case_idx in [1, 10, 11]:\n",
        "        _, _ = mcmc_main(\n",
        "            \"mill.mat\", \n",
        "            case_idx=case_idx, \n",
        "            obs_len=10, \n",
        "            num_samples=10000, \n",
        "            out_file=f\"case_{case_idx:02d}_seed_{seed:02d}.npy\",\n",
        "            seed=seed\n",
        "        )"
      ],
      "metadata": {
        "colab": {
          "base_uri": "https://localhost:8080/"
        },
        "id": "sT_ERGqcdDBp",
        "outputId": "9ec42663-3c4f-46e6-a89f-da972fe5fc9d"
      },
      "execution_count": 14,
      "outputs": [
        {
          "output_type": "stream",
          "name": "stderr",
          "text": [
            "sample: 100%|██████████| 12000/12000 [00:10<00:00, 1157.84it/s, 11 steps of size 2.85e-01. acc. prob=0.92]\n"
          ]
        },
        {
          "output_type": "stream",
          "name": "stdout",
          "text": [
            "11.315 s\n",
            "\n",
            "                mean       std    median      5.0%     95.0%     n_eff     r_hat\n",
            "         a     -0.28      0.20     -0.28     -0.62      0.04   1856.51      1.00\n",
            "         b      0.12      0.02      0.12      0.08      0.16   1908.99      1.00\n",
            "\n",
            "Number of divergences: 0\n"
          ]
        },
        {
          "output_type": "stream",
          "name": "stderr",
          "text": [
            "sample: 100%|██████████| 12000/12000 [00:10<00:00, 1150.68it/s, 11 steps of size 3.08e-01. acc. prob=0.93]\n"
          ]
        },
        {
          "output_type": "stream",
          "name": "stdout",
          "text": [
            "10.968 s\n",
            "\n",
            "                mean       std    median      5.0%     95.0%     n_eff     r_hat\n",
            "         a     -0.12      0.24     -0.12     -0.52      0.28   2068.88      1.00\n",
            "         b      0.06      0.02      0.05      0.03      0.08   2195.61      1.00\n",
            "\n",
            "Number of divergences: 0\n"
          ]
        },
        {
          "output_type": "stream",
          "name": "stderr",
          "text": [
            "sample: 100%|██████████| 12000/12000 [00:10<00:00, 1118.25it/s, 15 steps of size 2.39e-01. acc. prob=0.93]\n"
          ]
        },
        {
          "output_type": "stream",
          "name": "stdout",
          "text": [
            "11.139 s\n",
            "\n",
            "                mean       std    median      5.0%     95.0%     n_eff     r_hat\n",
            "         a      0.09      0.16      0.10     -0.17      0.37   2475.90      1.00\n",
            "         b      0.08      0.02      0.08      0.05      0.11   2502.39      1.00\n",
            "\n",
            "Number of divergences: 0\n"
          ]
        },
        {
          "output_type": "stream",
          "name": "stderr",
          "text": [
            "sample: 100%|██████████| 12000/12000 [00:10<00:00, 1115.44it/s, 7 steps of size 2.87e-01. acc. prob=0.92] \n"
          ]
        },
        {
          "output_type": "stream",
          "name": "stdout",
          "text": [
            "11.120 s\n",
            "\n",
            "                mean       std    median      5.0%     95.0%     n_eff     r_hat\n",
            "         a     -0.29      0.20     -0.28     -0.61      0.04   2121.49      1.00\n",
            "         b      0.12      0.02      0.12      0.08      0.16   2114.43      1.00\n",
            "\n",
            "Number of divergences: 0\n"
          ]
        },
        {
          "output_type": "stream",
          "name": "stderr",
          "text": [
            "sample: 100%|██████████| 12000/12000 [00:10<00:00, 1123.05it/s, 9 steps of size 3.24e-01. acc. prob=0.93]\n"
          ]
        },
        {
          "output_type": "stream",
          "name": "stdout",
          "text": [
            "11.040 s\n",
            "\n",
            "                mean       std    median      5.0%     95.0%     n_eff     r_hat\n",
            "         a     -0.12      0.24     -0.11     -0.51      0.28   2089.47      1.00\n",
            "         b      0.06      0.02      0.05      0.03      0.08   2189.24      1.00\n",
            "\n",
            "Number of divergences: 0\n"
          ]
        },
        {
          "output_type": "stream",
          "name": "stderr",
          "text": [
            "sample: 100%|██████████| 12000/12000 [00:10<00:00, 1154.99it/s, 15 steps of size 1.99e-01. acc. prob=0.95]\n"
          ]
        },
        {
          "output_type": "stream",
          "name": "stdout",
          "text": [
            "10.762 s\n",
            "\n",
            "                mean       std    median      5.0%     95.0%     n_eff     r_hat\n",
            "         a      0.09      0.17      0.10     -0.18      0.37   2123.22      1.00\n",
            "         b      0.08      0.02      0.08      0.05      0.11   2159.86      1.00\n",
            "\n",
            "Number of divergences: 0\n"
          ]
        },
        {
          "output_type": "stream",
          "name": "stderr",
          "text": [
            "sample: 100%|██████████| 12000/12000 [00:10<00:00, 1199.33it/s, 3 steps of size 2.72e-01. acc. prob=0.91] \n"
          ]
        },
        {
          "output_type": "stream",
          "name": "stdout",
          "text": [
            "10.385 s\n",
            "\n",
            "                mean       std    median      5.0%     95.0%     n_eff     r_hat\n",
            "         a     -0.28      0.21     -0.27     -0.59      0.09   1704.14      1.00\n",
            "         b      0.12      0.03      0.12      0.08      0.16   1707.31      1.00\n",
            "\n",
            "Number of divergences: 0\n"
          ]
        },
        {
          "output_type": "stream",
          "name": "stderr",
          "text": [
            "sample: 100%|██████████| 12000/12000 [00:10<00:00, 1145.20it/s, 3 steps of size 3.04e-01. acc. prob=0.93]\n"
          ]
        },
        {
          "output_type": "stream",
          "name": "stdout",
          "text": [
            "11.060 s\n",
            "\n",
            "                mean       std    median      5.0%     95.0%     n_eff     r_hat\n",
            "         a     -0.11      0.25     -0.11     -0.51      0.31   1633.51      1.00\n",
            "         b      0.06      0.02      0.05      0.03      0.08   1746.01      1.00\n",
            "\n",
            "Number of divergences: 0\n"
          ]
        },
        {
          "output_type": "stream",
          "name": "stderr",
          "text": [
            "sample: 100%|██████████| 12000/12000 [00:12<00:00, 968.50it/s, 1 steps of size 2.96e-01. acc. prob=0.86] \n"
          ]
        },
        {
          "output_type": "stream",
          "name": "stdout",
          "text": [
            "13.207 s\n",
            "\n",
            "                mean       std    median      5.0%     95.0%     n_eff     r_hat\n",
            "         a      0.09      0.17      0.10     -0.19      0.35   1662.41      1.00\n",
            "         b      0.08      0.02      0.08      0.05      0.11   1699.92      1.00\n",
            "\n",
            "Number of divergences: 0\n"
          ]
        },
        {
          "output_type": "stream",
          "name": "stderr",
          "text": [
            "sample: 100%|██████████| 12000/12000 [00:10<00:00, 1094.05it/s, 3 steps of size 2.55e-01. acc. prob=0.92]\n"
          ]
        },
        {
          "output_type": "stream",
          "name": "stdout",
          "text": [
            "11.336 s\n",
            "\n",
            "                mean       std    median      5.0%     95.0%     n_eff     r_hat\n",
            "         a     -0.29      0.21     -0.28     -0.64      0.03   1883.39      1.00\n",
            "         b      0.12      0.02      0.12      0.08      0.16   1898.78      1.00\n",
            "\n",
            "Number of divergences: 0\n"
          ]
        },
        {
          "output_type": "stream",
          "name": "stderr",
          "text": [
            "sample: 100%|██████████| 12000/12000 [00:10<00:00, 1108.88it/s, 3 steps of size 3.42e-01. acc. prob=0.90]\n"
          ]
        },
        {
          "output_type": "stream",
          "name": "stdout",
          "text": [
            "11.193 s\n",
            "\n",
            "                mean       std    median      5.0%     95.0%     n_eff     r_hat\n",
            "         a     -0.12      0.24     -0.11     -0.50      0.30   2278.14      1.00\n",
            "         b      0.06      0.02      0.05      0.03      0.08   2373.19      1.00\n",
            "\n",
            "Number of divergences: 0\n"
          ]
        },
        {
          "output_type": "stream",
          "name": "stderr",
          "text": [
            "sample: 100%|██████████| 12000/12000 [00:11<00:00, 1087.21it/s, 3 steps of size 2.05e-01. acc. prob=0.94]\n"
          ]
        },
        {
          "output_type": "stream",
          "name": "stdout",
          "text": [
            "11.389 s\n",
            "\n",
            "                mean       std    median      5.0%     95.0%     n_eff     r_hat\n",
            "         a      0.08      0.17      0.09     -0.19      0.36   2102.55      1.00\n",
            "         b      0.08      0.02      0.08      0.05      0.11   2077.91      1.00\n",
            "\n",
            "Number of divergences: 0\n"
          ]
        },
        {
          "output_type": "stream",
          "name": "stderr",
          "text": [
            "sample: 100%|██████████| 12000/12000 [00:10<00:00, 1119.27it/s, 15 steps of size 2.43e-01. acc. prob=0.94]\n"
          ]
        },
        {
          "output_type": "stream",
          "name": "stdout",
          "text": [
            "11.089 s\n",
            "\n",
            "                mean       std    median      5.0%     95.0%     n_eff     r_hat\n",
            "         a     -0.28      0.21     -0.27     -0.62      0.06   1955.72      1.00\n",
            "         b      0.12      0.03      0.12      0.08      0.16   2034.67      1.00\n",
            "\n",
            "Number of divergences: 0\n"
          ]
        },
        {
          "output_type": "stream",
          "name": "stderr",
          "text": [
            "sample: 100%|██████████| 12000/12000 [00:10<00:00, 1119.26it/s, 15 steps of size 3.02e-01. acc. prob=0.94]\n"
          ]
        },
        {
          "output_type": "stream",
          "name": "stdout",
          "text": [
            "11.077 s\n",
            "\n",
            "                mean       std    median      5.0%     95.0%     n_eff     r_hat\n",
            "         a     -0.11      0.24     -0.11     -0.51      0.27   1872.21      1.00\n",
            "         b      0.06      0.02      0.05      0.03      0.08   1916.14      1.00\n",
            "\n",
            "Number of divergences: 0\n"
          ]
        },
        {
          "output_type": "stream",
          "name": "stderr",
          "text": [
            "sample: 100%|██████████| 12000/12000 [00:10<00:00, 1150.22it/s, 15 steps of size 2.13e-01. acc. prob=0.94]\n"
          ]
        },
        {
          "output_type": "stream",
          "name": "stdout",
          "text": [
            "10.829 s\n",
            "\n",
            "                mean       std    median      5.0%     95.0%     n_eff     r_hat\n",
            "         a      0.10      0.16      0.10     -0.18      0.36   1686.07      1.00\n",
            "         b      0.08      0.02      0.08      0.05      0.11   1736.41      1.00\n",
            "\n",
            "Number of divergences: 0\n"
          ]
        }
      ]
    },
    {
      "cell_type": "code",
      "source": [
        "plt.rc(\"font\", size=6.0)\n",
        "\n",
        "fig, axs = plt.subplots(nrows=2, ncols=2, figsize=(3.4, 2.5))\n",
        "axs = [ax for row in axs for ax in row]\n",
        "rmse = [\n",
        "    [\n",
        "        compute_rsme_from_file(f\"case_{idx:02d}_seed_{i:02d}.npy\")\n",
        "        for i in range(5)\n",
        "    ]\n",
        "    for idx in [1, 10, 11]\n",
        "]\n",
        "\n",
        "for i, idx in enumerate([1, 10, 11]):\n",
        "    show_mcmc_results(f\"case_{idx:02d}_seed_00.npy\", axs[i])\n",
        "    mean_rmse = np.mean(rmse[i])\n",
        "    std_rmse = np.std(rmse[i])\n",
        "    axs[i].text(\n",
        "        0.03, \n",
        "        0.85, \n",
        "        f\"RMSE = {mean_rmse:.3f}±{std_rmse:.3f} mm\", \n",
        "        transform=axs[i].transAxes\n",
        "    )\n",
        "\n",
        "axs[1].set_ylabel(\"\")\n",
        "axs[3].axis(\"off\")\n",
        "artists = [\n",
        "    plt.Line2D([], [], color=\"b\", ls=\":\", label=\"Median\"),\n",
        "    plt.Line2D([], [], color=\"b\", ls=\"--\", label=\"90%/10%\"),\n",
        "    plt.Line2D([], [], color=\"r\", ls=\"-\", marker=\"o\", markersize=2, label=\"Actual\"),\n",
        "]\n",
        "plt.legend(handles=artists, loc=\"center\")\n",
        "fig.tight_layout()\n",
        "plt.savefig(\"out.pdf\", bbox_inches=\"tight\")\n",
        "plt.show()"
      ],
      "metadata": {
        "colab": {
          "base_uri": "https://localhost:8080/",
          "height": 269
        },
        "id": "7qv4P2MnnEqG",
        "outputId": "ac01162f-bdd5-4ff1-b5b3-471d1da3ccd9"
      },
      "execution_count": 16,
      "outputs": [
        {
          "output_type": "display_data",
          "data": {
            "text/plain": [
              "<Figure size 340x250 with 4 Axes>"
            ],
            "image/png": "[encoded data removed]"
          },
          "metadata": {}
        }
      ]
    },
    {
      "cell_type": "code",
      "source": [
        "times = []\n",
        "for _ in range(25):\n",
        "    _, elapsed = mcmc_main(\n",
        "        \"mill.mat\", \n",
        "        case_idx=1, \n",
        "        obs_len=10, \n",
        "        num_samples=10000, \n",
        "        out_file=f\"case_{case_idx:02d}.npy\"\n",
        "    )\n",
        "    times.append(elapsed)\n",
        "print(f\"{np.mean(times):.3f}+/-{np.std(times):.3f} s\")"
      ],
      "metadata": {
        "id": "-nyq85Fz25Kq"
      },
      "execution_count": null,
      "outputs": []
    },
    {
      "cell_type": "code",
      "source": [],
      "metadata": {
        "id": "hr9UZPDsJg2r"
      },
      "execution_count": null,
      "outputs": []
    }
  ]
}