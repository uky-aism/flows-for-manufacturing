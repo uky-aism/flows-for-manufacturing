{
 "cells": [
  {
   "cell_type": "code",
   "execution_count": 2,
   "metadata": {},
   "outputs": [],
   "source": [
    "import math\n",
    "import sys\n",
    "from os.path import abspath\n",
    "\n",
    "if abspath(\"..\") not in sys.path:\n",
    "    sys.path.append(abspath(\"..\"))\n",
    "\n",
    "import matplotlib.pyplot as plt\n",
    "import numpy as np\n",
    "import torch\n",
    "\n",
    "from flows4manufacturing.common.flows import (\n",
    "    AffineCouplingBlock,\n",
    "    NormalizingFlow,\n",
    "    SequentialBijector,\n",
    ")\n",
    "from flows4manufacturing.image_generation.generation import (\n",
    "    Autoencoder,\n",
    "    ScaleTranslateNet,\n",
    ")\n",
    "from flows4manufacturing.image_generation.kolektor import KolektorDataset\n",
    "\n",
    "\n",
    "device = \"cuda\" if torch.cuda.is_available() else \"cpu\"\n"
   ]
  },
  {
   "cell_type": "code",
   "execution_count": 2,
   "metadata": {},
   "outputs": [],
   "source": [
    "input_shape = (1, 64, 64)\n",
    "hidden = 16\n",
    "flow_hidden = 512\n",
    "checkerboard = torch.arange(hidden) % 2 == 0\n",
    "autoencoder = Autoencoder(input_shape, hidden)\n",
    "bij = SequentialBijector(\n",
    "    AffineCouplingBlock(ScaleTranslateNet(hidden, flow_hidden), checkerboard),\n",
    "    AffineCouplingBlock(ScaleTranslateNet(hidden, flow_hidden), ~checkerboard),\n",
    "    AffineCouplingBlock(ScaleTranslateNet(hidden, flow_hidden), checkerboard),\n",
    "    AffineCouplingBlock(ScaleTranslateNet(hidden, flow_hidden), ~checkerboard),\n",
    "    AffineCouplingBlock(ScaleTranslateNet(hidden, flow_hidden), checkerboard),\n",
    "    AffineCouplingBlock(ScaleTranslateNet(hidden, flow_hidden), ~checkerboard),\n",
    "    AffineCouplingBlock(ScaleTranslateNet(hidden, flow_hidden), checkerboard),\n",
    "    AffineCouplingBlock(ScaleTranslateNet(hidden, flow_hidden), ~checkerboard),\n",
    ")\n",
    "flow = NormalizingFlow(bij, (hidden,))\n"
   ]
  },
  {
   "cell_type": "code",
   "execution_count": 17,
   "metadata": {},
   "outputs": [],
   "source": [
    "# Replace with paths to your trained autoencoder and flow checkpoints\n",
    "autoencoder.load_state_dict(torch.load(\"./image-autoencoder.pt\"))\n",
    "flow.load_state_dict(torch.load(\"./image-flow.pt\"))\n",
    "autoencoder.to(device)\n",
    "flow.to(device)\n",
    "pass\n"
   ]
  },
  {
   "cell_type": "code",
   "execution_count": 18,
   "metadata": {},
   "outputs": [],
   "source": [
    "dataset = KolektorDataset(r\"C:\\Users\\Matthew\\Downloads\\KolektorSDD2\\train\")\n",
    "defects_only = [x for x in dataset if x[1] == 1]\n"
   ]
  },
  {
   "cell_type": "code",
   "execution_count": 32,
   "metadata": {},
   "outputs": [],
   "source": [
    "def show_images(out: torch.Tensor, color: bool = True):\n",
    "    ims = []\n",
    "    for x in out:\n",
    "        im = (x[0].detach().cpu().numpy() * 255).astype(np.uint8)\n",
    "        ims.append(im)\n",
    "\n",
    "    NUM_PER_ROW = 8\n",
    "    num_rows = math.ceil(out.shape[0] / NUM_PER_ROW)\n",
    "    fig, axs = plt.subplots(\n",
    "        ncols=NUM_PER_ROW,\n",
    "        nrows=num_rows,\n",
    "        figsize=(7, num_rows * 7 / NUM_PER_ROW),\n",
    "        dpi=1500,\n",
    "        layout=\"constrained\",\n",
    "    )\n",
    "    if num_rows > 1:\n",
    "        axs = [ax for row in axs for ax in row]\n",
    "    for im, ax in zip(ims, axs):\n",
    "        ax.imshow(im, vmin=0, vmax=255, cmap=\"gray\" if color else \"binary\")\n",
    "        ax.axis(\"off\")\n",
    "    fig.get_layout_engine().set(wspace=0.05, hspace=0.05, w_pad=0.0, h_pad=0.0)\n",
    "    return fig\n"
   ]
  },
  {
   "cell_type": "code",
   "execution_count": null,
   "metadata": {},
   "outputs": [],
   "source": [
    "torch.manual_seed(0)\n",
    "codes = flow.sample(8)\n",
    "out = autoencoder.decode(codes)\n",
    "fig = show_images(out, color=False)\n",
    "fig.savefig(\"../figures/flow-images-false.jpg\")\n",
    "torch.manual_seed(0)\n",
    "bad_codes = torch.randn_like(codes)\n",
    "bad_out = autoencoder.decode(bad_codes)\n",
    "fig = show_images(bad_out, color=False)\n",
    "fig.savefig(\"../figures/ae-images-false.jpg\")\n",
    "samples = torch.stack([im for im, label in defects_only[:8]])\n",
    "fig = show_images(samples, color=False)\n",
    "fig.savefig(\"../figures/real-images-false.jpg\")"
   ]
  }
 ],
 "metadata": {
  "kernelspec": {
   "display_name": "Python 3.9.15 ('.torchenv')",
   "language": "python",
   "name": "python3"
  },
  "language_info": {
   "codemirror_mode": {
    "name": "ipython",
    "version": 3
   },
   "file_extension": ".py",
   "mimetype": "text/x-python",
   "name": "python",
   "nbconvert_exporter": "python",
   "pygments_lexer": "ipython3",
   "version": "3.9.15"
  },
  "orig_nbformat": 4,
  "vscode": {
   "interpreter": {
    "hash": "03fc9a4a19fedee1130fbf170f39e64fa3c4fd49ea049d466617b0b2e0fa638e"
   }
  }
 },
 "nbformat": 4,
 "nbformat_minor": 2
}
